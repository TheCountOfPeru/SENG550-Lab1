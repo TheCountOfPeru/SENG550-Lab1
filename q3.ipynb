{
 "cells": [
  {
   "cell_type": "markdown",
   "metadata": {},
   "source": [
    "# q3"
   ]
  },
  {
   "cell_type": "code",
   "execution_count": null,
   "metadata": {},
   "outputs": [],
   "source": [
    "!mkdir data1\n",
    "!echo \"dog cat cat apple ninja\" > data1/text1.txt\n",
    "!echo \"ninja apple cat keyboard horse\" > data1/another_file.txt\n",
    "!echo \"water cat dog spider spider\" > data1/yet_another_file.txt"
   ]
  },
  {
   "cell_type": "code",
   "execution_count": null,
   "metadata": {},
   "outputs": [],
   "source": [
    "!hadoop fs -mkdir -p /outputs\n",
    "!hadoop fs -mkdir -p /inputs\n",
    "!hadoop fs -put data1 /inputs"
   ]
  },
  {
   "cell_type": "code",
   "execution_count": null,
   "metadata": {},
   "outputs": [],
   "source": [
    "!hadoop dfs -ls /inputs/data1"
   ]
  },
  {
   "cell_type": "code",
   "execution_count": null,
   "metadata": {},
   "outputs": [],
   "source": [
    "%%writefile mapper.py\n",
    "#!/opt/bitnami/python/bin/python\n",
    "# -*-coding:utf-8 -*\n",
    "import sys\n",
    "import string\n",
    "import os\n",
    "import ntpath\n",
    "\n",
    "for line in sys.stdin: # reads from stdin\n",
    "    line = line.strip()\n",
    "    words = line.split()\n",
    "\n",
    "    for word in words: # writes to stdout\n",
    "        word = word.translate(str.maketrans('','',string.punctuation))\n",
    "        print(word.lower()+'\\t'+ntpath.basename(os.getenv('mapreduce_map_input_file')))"
   ]
  },
  {
   "cell_type": "code",
   "execution_count": null,
   "metadata": {},
   "outputs": [],
   "source": [
    "%%writefile reducer.py\n",
    "#!/opt/bitnami/python/bin/python\n",
    "# -*-coding:utf-8 -*\n",
    "\n",
    "import sys\n",
    "import random\n",
    "\n",
    "counts = dict()\n",
    "for line in sys.stdin:\n",
    "    line = line.strip()\n",
    "    word, file = line.split()\n",
    "    if word in counts:\n",
    "        counts[word] += \"\\t\" + file\n",
    "    else:\n",
    "        counts[word] = file\n",
    "        \n",
    "for key in counts:\n",
    "    print(key +\"\\t\"+ counts[key])"
   ]
  },
  {
   "cell_type": "code",
   "execution_count": null,
   "metadata": {},
   "outputs": [],
   "source": [
    "!hadoop jar /opt/hadoop-3.2.1/share/hadoop/tools/lib/hadoop-streaming-3.2.1.jar \\\n",
    "    -file $PWD/mapper.py\\\n",
    "    -file $PWD/reducer.py\\\n",
    "    -mapper mapper.py \\\n",
    "    -reducer reducer.py \\\n",
    "    -input /inputs/data1 \\\n",
    "    -output /outputs/result3"
   ]
  },
  {
   "cell_type": "code",
   "execution_count": null,
   "metadata": {},
   "outputs": [],
   "source": [
    "!hdfs dfs -rm -R /outputs/result3"
   ]
  },
  {
   "cell_type": "code",
   "execution_count": null,
   "metadata": {},
   "outputs": [],
   "source": [
    "!hdfs dfs -ls /outputs/result3"
   ]
  },
  {
   "cell_type": "markdown",
   "metadata": {},
   "source": [
    "I originally had big file for all the questions. But I realized they needed to be split. So This result is from a old run."
   ]
  },
  {
   "cell_type": "code",
   "execution_count": 2,
   "metadata": {},
   "outputs": [
    {
     "name": "stdout",
     "output_type": "stream",
     "text": [
      "2020-10-16 23:11:32,659 INFO sasl.SaslDataTransferClient: SASL encryption trust check: localHostTrusted = false, remoteHostTrusted = false\n",
      "apple\ttext1.txt\tanother_file.txt\n",
      "cat\tanother_file.txt\ttext1.txt\ttext1.txt\tyet_another_file.txt\n",
      "dog\tyet_another_file.txt\ttext1.txt\n",
      "horse\tanother_file.txt\n",
      "keyboard\tanother_file.txt\n",
      "ninja\tanother_file.txt\ttext1.txt\n",
      "spider\tyet_another_file.txt\tyet_another_file.txt\n",
      "water\tyet_another_file.txt\n"
     ]
    }
   ],
   "source": [
    "!hdfs dfs -cat /outputs/result3/part-00000"
   ]
  },
  {
   "cell_type": "code",
   "execution_count": null,
   "metadata": {},
   "outputs": [],
   "source": []
  }
 ],
 "metadata": {
  "kernelspec": {
   "display_name": "Python 3",
   "language": "python",
   "name": "python3"
  },
  "language_info": {
   "codemirror_mode": {
    "name": "ipython",
    "version": 3
   },
   "file_extension": ".py",
   "mimetype": "text/x-python",
   "name": "python",
   "nbconvert_exporter": "python",
   "pygments_lexer": "ipython3",
   "version": "3.8.1"
  }
 },
 "nbformat": 4,
 "nbformat_minor": 4
}
