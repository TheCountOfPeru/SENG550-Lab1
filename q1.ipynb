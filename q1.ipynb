{
 "cells": [
  {
   "cell_type": "markdown",
   "metadata": {},
   "source": [
    "# Q1"
   ]
  },
  {
   "cell_type": "markdown",
   "metadata": {},
   "source": [
    "Make sure to run these questions sequentially so the directories work properly\n",
    "\n",
    "I have some delete commands just for helping me clean up runs."
   ]
  },
  {
   "cell_type": "code",
   "execution_count": 1,
   "metadata": {},
   "outputs": [
    {
     "name": "stdout",
     "output_type": "stream",
     "text": [
      "mkdir: cannot create directory ‘data’: File exists\r\n"
     ]
    }
   ],
   "source": [
    "!mkdir data"
   ]
  },
  {
   "cell_type": "code",
   "execution_count": null,
   "metadata": {},
   "outputs": [],
   "source": [
    "!hadoop fs -mkdir -p /outputs\n",
    "!hadoop fs -mkdir -p /inputs\n",
    "!hadoop fs -put data /inputs"
   ]
  },
  {
   "cell_type": "code",
   "execution_count": null,
   "metadata": {},
   "outputs": [],
   "source": [
    "!hadoop dfs -ls /inputs/data"
   ]
  },
  {
   "cell_type": "code",
   "execution_count": 2,
   "metadata": {},
   "outputs": [
    {
     "name": "stdout",
     "output_type": "stream",
     "text": [
      "Overwriting mapper.py\n"
     ]
    }
   ],
   "source": [
    "%%writefile mapper.py\n",
    "#!/opt/bitnami/python/bin/python\n",
    "# -*-coding:utf-8 -*\n",
    "import sys\n",
    "import string\n",
    "\n",
    "for line in sys.stdin: # reads from stdin\n",
    "    line = line.strip()\n",
    "    words = line.split()\n",
    "\n",
    "    for word in words: # writes to stdout\n",
    "        word = word.translate(str.maketrans('','',string.punctuation))\n",
    "        print(word.lower())"
   ]
  },
  {
   "cell_type": "code",
   "execution_count": 3,
   "metadata": {},
   "outputs": [
    {
     "name": "stdout",
     "output_type": "stream",
     "text": [
      "Overwriting reducer.py\n"
     ]
    }
   ],
   "source": [
    "%%writefile reducer.py\n",
    "#!/opt/bitnami/python/bin/python\n",
    "# -*-coding:utf-8 -*\n",
    "\n",
    "import sys\n",
    "import random\n",
    "\n",
    "for line in sys.stdin:\n",
    "    line = line.strip()\n",
    "    if random.random() < 0.1:\n",
    "        print(line)"
   ]
  },
  {
   "cell_type": "code",
   "execution_count": 6,
   "metadata": {},
   "outputs": [
    {
     "name": "stdout",
     "output_type": "stream",
     "text": [
      "Deleted /outputs/result1\r\n"
     ]
    }
   ],
   "source": [
    "!hdfs dfs -rm -R /outputs/result1"
   ]
  },
  {
   "cell_type": "code",
   "execution_count": 7,
   "metadata": {},
   "outputs": [
    {
     "name": "stdout",
     "output_type": "stream",
     "text": [
      "2020-10-16 22:53:02,932 WARN streaming.StreamJob: -file option is deprecated, please use generic option -files instead.\n",
      "packageJobJar: [/training/mapper.py, /training/reducer.py, /tmp/hadoop-unjar3413828311223021985/] [] /tmp/streamjob8134930855946162686.jar tmpDir=null\n",
      "2020-10-16 22:53:06,551 INFO client.RMProxy: Connecting to ResourceManager at resourcemanager/172.18.0.4:8032\n",
      "2020-10-16 22:53:06,842 INFO client.AHSProxy: Connecting to Application History server at historyserver/172.18.0.5:10200\n",
      "2020-10-16 22:53:06,885 INFO client.RMProxy: Connecting to ResourceManager at resourcemanager/172.18.0.4:8032\n",
      "2020-10-16 22:53:06,885 INFO client.AHSProxy: Connecting to Application History server at historyserver/172.18.0.5:10200\n",
      "2020-10-16 22:53:11,919 INFO mapreduce.JobResourceUploader: Disabling Erasure Coding for path: /tmp/hadoop-yarn/staging/root/.staging/job_1602883786030_0001\n",
      "2020-10-16 22:53:13,508 INFO sasl.SaslDataTransferClient: SASL encryption trust check: localHostTrusted = false, remoteHostTrusted = false\n",
      "2020-10-16 22:53:15,216 INFO sasl.SaslDataTransferClient: SASL encryption trust check: localHostTrusted = false, remoteHostTrusted = false\n",
      "2020-10-16 22:53:15,528 INFO sasl.SaslDataTransferClient: SASL encryption trust check: localHostTrusted = false, remoteHostTrusted = false\n",
      "2020-10-16 22:53:16,109 INFO mapred.FileInputFormat: Total input files to process : 1\n",
      "2020-10-16 22:53:16,540 INFO sasl.SaslDataTransferClient: SASL encryption trust check: localHostTrusted = false, remoteHostTrusted = false\n",
      "2020-10-16 22:53:17,583 INFO sasl.SaslDataTransferClient: SASL encryption trust check: localHostTrusted = false, remoteHostTrusted = false\n",
      "2020-10-16 22:53:17,727 INFO mapreduce.JobSubmitter: number of splits:2\n",
      "2020-10-16 22:53:18,994 INFO sasl.SaslDataTransferClient: SASL encryption trust check: localHostTrusted = false, remoteHostTrusted = false\n",
      "2020-10-16 22:53:19,332 INFO mapreduce.JobSubmitter: Submitting tokens for job: job_1602883786030_0001\n",
      "2020-10-16 22:53:19,332 INFO mapreduce.JobSubmitter: Executing with tokens: []\n",
      "2020-10-16 22:53:20,224 INFO conf.Configuration: resource-types.xml not found\n",
      "2020-10-16 22:53:20,225 INFO resource.ResourceUtils: Unable to find 'resource-types.xml'.\n",
      "2020-10-16 22:53:25,133 INFO impl.YarnClientImpl: Submitted application application_1602883786030_0001\n",
      "2020-10-16 22:53:25,547 INFO mapreduce.Job: The url to track the job: http://resourcemanager:8088/proxy/application_1602883786030_0001/\n",
      "2020-10-16 22:53:25,665 INFO mapreduce.Job: Running job: job_1602883786030_0001\n",
      "2020-10-16 22:54:55,998 INFO mapreduce.Job: Job job_1602883786030_0001 running in uber mode : false\n",
      "2020-10-16 22:54:56,054 INFO mapreduce.Job:  map 0% reduce 0%\n",
      "2020-10-16 22:56:10,743 INFO mapreduce.Job:  map 11% reduce 0%\n",
      "2020-10-16 22:56:16,669 INFO mapreduce.Job:  map 100% reduce 0%\n",
      "2020-10-16 22:57:11,925 INFO mapreduce.Job:  map 100% reduce 100%\n",
      "2020-10-16 22:57:18,972 INFO mapreduce.Job: Job job_1602883786030_0001 completed successfully\n",
      "2020-10-16 22:57:25,682 INFO mapreduce.Job: Counters: 54\n",
      "\tFile System Counters\n",
      "\t\tFILE: Number of bytes read=174404\n",
      "\t\tFILE: Number of bytes written=1108435\n",
      "\t\tFILE: Number of read operations=0\n",
      "\t\tFILE: Number of large read operations=0\n",
      "\t\tFILE: Number of write operations=0\n",
      "\t\tHDFS: Number of bytes read=5454669\n",
      "\t\tHDFS: Number of bytes written=547850\n",
      "\t\tHDFS: Number of read operations=11\n",
      "\t\tHDFS: Number of large read operations=0\n",
      "\t\tHDFS: Number of write operations=2\n",
      "\t\tHDFS: Number of bytes read erasure-coded=0\n",
      "\tJob Counters \n",
      "\t\tLaunched map tasks=2\n",
      "\t\tLaunched reduce tasks=1\n",
      "\t\tRack-local map tasks=2\n",
      "\t\tTotal time spent by all maps in occupied slots (ms)=518732\n",
      "\t\tTotal time spent by all reduces in occupied slots (ms)=398736\n",
      "\t\tTotal time spent by all map tasks (ms)=129683\n",
      "\t\tTotal time spent by all reduce tasks (ms)=49842\n",
      "\t\tTotal vcore-milliseconds taken by all map tasks=129683\n",
      "\t\tTotal vcore-milliseconds taken by all reduce tasks=49842\n",
      "\t\tTotal megabyte-milliseconds taken by all map tasks=531181568\n",
      "\t\tTotal megabyte-milliseconds taken by all reduce tasks=408305664\n",
      "\tMap-Reduce Framework\n",
      "\t\tMap input records=122395\n",
      "\t\tMap output records=883320\n",
      "\t\tMap output bytes=5463849\n",
      "\t\tMap output materialized bytes=235689\n",
      "\t\tInput split bytes=200\n",
      "\t\tCombine input records=0\n",
      "\t\tCombine output records=0\n",
      "\t\tReduce input groups=28148\n",
      "\t\tReduce shuffle bytes=235689\n",
      "\t\tReduce input records=883320\n",
      "\t\tReduce output records=88578\n",
      "\t\tSpilled Records=1766640\n",
      "\t\tShuffled Maps =2\n",
      "\t\tFailed Shuffles=0\n",
      "\t\tMerged Map outputs=2\n",
      "\t\tGC time elapsed (ms)=451\n",
      "\t\tCPU time spent (ms)=11620\n",
      "\t\tPhysical memory (bytes) snapshot=548179968\n",
      "\t\tVirtual memory (bytes) snapshot=18440273920\n",
      "\t\tTotal committed heap usage (bytes)=354418688\n",
      "\t\tPeak Map Physical memory (bytes)=217534464\n",
      "\t\tPeak Map Virtual memory (bytes)=5066350592\n",
      "\t\tPeak Reduce Physical memory (bytes)=129101824\n",
      "\t\tPeak Reduce Virtual memory (bytes)=8377794560\n",
      "\tShuffle Errors\n",
      "\t\tBAD_ID=0\n",
      "\t\tCONNECTION=0\n",
      "\t\tIO_ERROR=0\n",
      "\t\tWRONG_LENGTH=0\n",
      "\t\tWRONG_MAP=0\n",
      "\t\tWRONG_REDUCE=0\n",
      "\tFile Input Format Counters \n",
      "\t\tBytes Read=5454469\n",
      "\tFile Output Format Counters \n",
      "\t\tBytes Written=547850\n",
      "2020-10-16 22:57:25,721 INFO streaming.StreamJob: Output directory: /outputs/result1\n"
     ]
    }
   ],
   "source": [
    "!hadoop jar /opt/hadoop-3.2.1/share/hadoop/tools/lib/hadoop-streaming-3.2.1.jar \\\n",
    "    -file $PWD/mapper.py\\\n",
    "    -file $PWD/reducer.py\\\n",
    "    -mapper mapper.py \\\n",
    "    -reducer reducer.py \\\n",
    "    -input /inputs/data \\\n",
    "    -output /outputs/result1"
   ]
  },
  {
   "cell_type": "code",
   "execution_count": 8,
   "metadata": {},
   "outputs": [
    {
     "name": "stdout",
     "output_type": "stream",
     "text": [
      "Found 2 items\r\n",
      "-rw-r--r--   3 root supergroup          0 2020-10-16 22:57 /outputs/result1/_SUCCESS\r\n",
      "-rw-r--r--   3 root supergroup     547850 2020-10-16 22:57 /outputs/result1/part-00000\r\n"
     ]
    }
   ],
   "source": [
    "!hdfs dfs -ls /outputs/result1"
   ]
  },
  {
   "cell_type": "code",
   "execution_count": 12,
   "metadata": {},
   "outputs": [
    {
     "name": "stdout",
     "output_type": "stream",
     "text": [
      "2020-10-16 23:00:41,246 INFO sasl.SaslDataTransferClient: SASL encryption trust check: localHostTrusted = false, remoteHostTrusted = false\n",
      "yourself\t\n",
      "yourselves\t\n",
      "yourselves\t\n",
      "yourselves\t\n",
      "yourselves\t\n",
      "yourselves\t\n",
      "yourselves\t\n",
      "yourselves\t\n",
      "yourselves\t\n",
      "yourselves\t\n",
      "yourselves\t\n",
      "youth\t\n",
      "youth\t\n",
      "youth\t\n",
      "youth\t\n",
      "youth\t\n",
      "youth\t\n",
      "youth\t\n",
      "youth\t\n",
      "youth\t\n",
      "youth\t\n",
      "youth\t\n",
      "youth\t\n",
      "youth\t\n",
      "youth\t\n",
      "youth\t\n",
      "youth\t\n",
      "youth\t\n",
      "youth\t\n",
      "youth\t\n",
      "youth\t\n",
      "youth\t\n",
      "youth\t\n",
      "youth\t\n",
      "youth\t\n",
      "youth\t\n",
      "youth\t\n",
      "youth\t\n",
      "youthful\t\n",
      "youthful\t\n",
      "youths\t\n",
      "youths\t\n",
      "youwell\t\n",
      "zany\t\n",
      "zeal\t\n",
      "zeal\t\n",
      "zealous\t\n",
      "zealous\t\n",
      "zodiac\t\n",
      "zodiacs\t\n"
     ]
    }
   ],
   "source": [
    "!hdfs dfs -cat /outputs/result1/part-00000 | tail -n 50"
   ]
  },
  {
   "cell_type": "code",
   "execution_count": null,
   "metadata": {},
   "outputs": [],
   "source": []
  }
 ],
 "metadata": {
  "kernelspec": {
   "display_name": "Python 3",
   "language": "python",
   "name": "python3"
  },
  "language_info": {
   "codemirror_mode": {
    "name": "ipython",
    "version": 3
   },
   "file_extension": ".py",
   "mimetype": "text/x-python",
   "name": "python",
   "nbconvert_exporter": "python",
   "pygments_lexer": "ipython3",
   "version": "3.8.1"
  }
 },
 "nbformat": 4,
 "nbformat_minor": 4
}
