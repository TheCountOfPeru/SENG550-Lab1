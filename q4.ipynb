{
 "cells": [
  {
   "cell_type": "markdown",
   "metadata": {},
   "source": [
    "# q4"
   ]
  },
  {
   "cell_type": "code",
   "execution_count": null,
   "metadata": {},
   "outputs": [],
   "source": [
    "%%writefile mapper.py\n",
    "#!/opt/bitnami/python/bin/python\n",
    "# -*-coding:utf-8 -*\n",
    "import sys\n",
    "import string\n",
    "\n",
    "for line in sys.stdin: # reads from stdin\n",
    "    line = line.strip()\n",
    "    words = line.split()\n",
    "\n",
    "    for word in words: # writes to stdout\n",
    "        word = word.translate(str.maketrans('','',string.punctuation)).lower()\n",
    "        if(word.isalpha()):\n",
    "            print(word[:1]+\"\\t\"+word)"
   ]
  },
  {
   "cell_type": "code",
   "execution_count": null,
   "metadata": {},
   "outputs": [],
   "source": [
    "%%writefile reducer.py\n",
    "#!/opt/bitnami/python/bin/python\n",
    "# -*-coding:utf-8 -*\n",
    "\n",
    "import sys\n",
    "import random\n",
    "\n",
    "words = list()\n",
    "for line in sys.stdin:\n",
    "    line = line.strip()\n",
    "    key, value = line.split()\n",
    "    words.append(value)\n",
    "    \n",
    "words.sort()\n",
    "for word in words:\n",
    "    print(word)"
   ]
  },
  {
   "cell_type": "code",
   "execution_count": null,
   "metadata": {},
   "outputs": [],
   "source": [
    "!cat data/shakespeare.txt | python mapper.py | python reducer.py"
   ]
  },
  {
   "cell_type": "code",
   "execution_count": null,
   "metadata": {},
   "outputs": [],
   "source": [
    "!hadoop jar /opt/hadoop-3.2.1/share/hadoop/tools/lib/hadoop-streaming-3.2.1.jar \\\n",
    "    -D mapreduce.job.reduces=26 \\\n",
    "    -partitioner org.apache.hadoop.mapred.lib.KeyFieldBasedPartitioner \\\n",
    "    -file $PWD/mapper.py\\\n",
    "    -file $PWD/reducer.py\\\n",
    "    -mapper mapper.py \\\n",
    "    -reducer reducer.py \\\n",
    "    -input /inputs/data \\\n",
    "    -output /outputs/result5 "
   ]
  },
  {
   "cell_type": "code",
   "execution_count": null,
   "metadata": {},
   "outputs": [],
   "source": [
    "!hdfs dfs -ls /outputs/result5"
   ]
  },
  {
   "cell_type": "code",
   "execution_count": 1,
   "metadata": {},
   "outputs": [
    {
     "name": "stdout",
     "output_type": "stream",
     "text": [
      "2020-10-16 23:13:50,536 INFO sasl.SaslDataTransferClient: SASL encryption trust check: localHostTrusted = false, remoteHostTrusted = false\n",
      "hymen\t\n",
      "hymen\t\n",
      "hymen\t\n",
      "hymen\t\n",
      "hymen\t\n",
      "hymen\t\n",
      "hymen\t\n",
      "hymenaeus\t\n",
      "hymens\t\n",
      "hymens\t\n",
      "hymens\t\n",
      "hymens\t\n",
      "hymn\t\n",
      "hymn\t\n",
      "hymn\t\n",
      "hymn\t\n",
      "hymn\t\n",
      "hymns\t\n",
      "hymns\t\n",
      "hymns\t\n",
      "hymns\t\n",
      "hyperboles\t\n",
      "hyperboles\t\n",
      "hyperbolical\t\n",
      "hyperbolical\t\n",
      "hyperion\t\n",
      "hyperion\t\n",
      "hyperion\t\n",
      "hyperions\t\n",
      "hyperions\t\n",
      "hyperions\t\n",
      "hypocrisy\t\n",
      "hypocrisy\t\n",
      "hypocrisy\t\n",
      "hypocrisy\t\n",
      "hypocrisy\t\n",
      "hypocrite\t\n",
      "hypocrite\t\n",
      "hypocrite\t\n",
      "hypocrite\t\n",
      "hypocrite\t\n",
      "hypocrite\t\n",
      "hypocrite\t\n",
      "hypocrites\t\n",
      "hyrcan\t\n",
      "hyrcania\t\n",
      "hyrcanian\t\n",
      "hyrcanian\t\n",
      "hyssop\t\n",
      "hysterica\t\n"
     ]
    }
   ],
   "source": [
    "!hdfs dfs -cat /outputs/result5/part-00000 | tail -n 50"
   ]
  },
  {
   "cell_type": "code",
   "execution_count": 2,
   "metadata": {},
   "outputs": [
    {
     "name": "stdout",
     "output_type": "stream",
     "text": [
      "2020-10-16 23:14:09,034 INFO sasl.SaslDataTransferClient: SASL encryption trust check: localHostTrusted = false, remoteHostTrusted = false\n",
      "rusty\t\n",
      "ruth\t\n",
      "ruth\t\n",
      "ruth\t\n",
      "ruth\t\n",
      "ruthful\t\n",
      "ruthful\t\n",
      "ruthful\t\n",
      "ruthless\t\n",
      "ruthless\t\n",
      "ruthless\t\n",
      "ruthless\t\n",
      "ruthless\t\n",
      "ruthless\t\n",
      "ruthless\t\n",
      "ruthless\t\n",
      "ruthless\t\n",
      "ruthless\t\n",
      "ruthless\t\n",
      "rutland\t\n",
      "rutland\t\n",
      "rutland\t\n",
      "rutland\t\n",
      "rutland\t\n",
      "rutland\t\n",
      "rutland\t\n",
      "rutland\t\n",
      "rutland\t\n",
      "rutland\t\n",
      "rutland\t\n",
      "rutland\t\n",
      "rutland\t\n",
      "rutland\t\n",
      "rutland\t\n",
      "rutland\t\n",
      "rutland\t\n",
      "rutland\t\n",
      "rutland\t\n",
      "rutland\t\n",
      "rutland\t\n",
      "rutland\t\n",
      "rutland\t\n",
      "rutlands\t\n",
      "rutlands\t\n",
      "rutlands\t\n",
      "ruttime\t\n",
      "ruttish\t\n",
      "rye\t\n",
      "rye\t\n",
      "ryestraw\t\n"
     ]
    }
   ],
   "source": [
    "!hdfs dfs -cat /outputs/result5/part-00010 | tail -n 50"
   ]
  },
  {
   "cell_type": "code",
   "execution_count": null,
   "metadata": {},
   "outputs": [],
   "source": []
  }
 ],
 "metadata": {
  "kernelspec": {
   "display_name": "Python 3",
   "language": "python",
   "name": "python3"
  },
  "language_info": {
   "codemirror_mode": {
    "name": "ipython",
    "version": 3
   },
   "file_extension": ".py",
   "mimetype": "text/x-python",
   "name": "python",
   "nbconvert_exporter": "python",
   "pygments_lexer": "ipython3",
   "version": "3.8.1"
  }
 },
 "nbformat": 4,
 "nbformat_minor": 4
}
